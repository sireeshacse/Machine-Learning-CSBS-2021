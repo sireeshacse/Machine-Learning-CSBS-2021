{
  "nbformat": 4,
  "nbformat_minor": 0,
  "metadata": {
    "colab": {
      "name": "spam_email_classification_sklearn.ipynb",
      "provenance": [],
      "collapsed_sections": []
    },
    "kernelspec": {
      "name": "python3",
      "display_name": "Python 3"
    },
    "language_info": {
      "name": "python"
    }
  },
  "cells": [
    {
      "cell_type": "markdown",
      "metadata": {
        "id": "qwhyxPHZg-mv"
      },
      "source": [
        "####Import the necessary packages and libraries"
      ]
    },
    {
      "cell_type": "code",
      "metadata": {
        "id": "slTYGt5pWDmL"
      },
      "source": [
        "import numpy as np\n",
        "import pandas as pd\n",
        "import urllib\n",
        "from urllib.request import urlopen\n",
        "import sklearn\n",
        "from sklearn.naive_bayes import BernoulliNB\n",
        "from sklearn.naive_bayes import GaussianNB\n",
        "from sklearn.naive_bayes import MultinomialNB\n",
        "from sklearn.model_selection import train_test_split\n",
        "from sklearn.metrics import accuracy_score"
      ],
      "execution_count": null,
      "outputs": []
    },
    {
      "cell_type": "markdown",
      "metadata": {
        "id": "NbYh8ui-hKZT"
      },
      "source": [
        "#####Load the Dataset"
      ]
    },
    {
      "cell_type": "code",
      "metadata": {
        "colab": {
          "base_uri": "https://localhost:8080/"
        },
        "id": "tqFqJOk_WRYl",
        "outputId": "aef96dee-349d-4b55-a205-2cbc988e0179"
      },
      "source": [
        "url =\" http://archive.ics.uci.edu/ml/machine-learning-databases/spambase/spambase.data\"\n",
        "raw_data = urlopen(url)\n",
        "dataset = np.loadtxt(raw_data,delimiter=\",\")\n",
        "dataset[0]"
      ],
      "execution_count": null,
      "outputs": [
        {
          "output_type": "execute_result",
          "data": {
            "text/plain": [
              "array([  0.   ,   0.64 ,   0.64 ,   0.   ,   0.32 ,   0.   ,   0.   ,\n",
              "         0.   ,   0.   ,   0.   ,   0.   ,   0.64 ,   0.   ,   0.   ,\n",
              "         0.   ,   0.32 ,   0.   ,   1.29 ,   1.93 ,   0.   ,   0.96 ,\n",
              "         0.   ,   0.   ,   0.   ,   0.   ,   0.   ,   0.   ,   0.   ,\n",
              "         0.   ,   0.   ,   0.   ,   0.   ,   0.   ,   0.   ,   0.   ,\n",
              "         0.   ,   0.   ,   0.   ,   0.   ,   0.   ,   0.   ,   0.   ,\n",
              "         0.   ,   0.   ,   0.   ,   0.   ,   0.   ,   0.   ,   0.   ,\n",
              "         0.   ,   0.   ,   0.778,   0.   ,   0.   ,   3.756,  61.   ,\n",
              "       278.   ,   1.   ])"
            ]
          },
          "metadata": {
            "tags": []
          },
          "execution_count": 3
        }
      ]
    },
    {
      "cell_type": "markdown",
      "metadata": {
        "id": "unrm7uptikSZ"
      },
      "source": [
        "If you look at the dataset there are 57 attributes predictors and 48 features have attributes with the percentage of word count. We will take these attributes as predictors and the last attribute has binary values 0 (not spam) and 1( spam ) as the target."
      ]
    },
    {
      "cell_type": "code",
      "metadata": {
        "id": "Hem9NM5TjEaF"
      },
      "source": [
        "x = dataset[:,:48] \n",
        "y = dataset[:,-1]"
      ],
      "execution_count": null,
      "outputs": []
    },
    {
      "cell_type": "markdown",
      "metadata": {
        "id": "QkL8bu3ki4Ry"
      },
      "source": [
        "####Split the dataset into train and test functions"
      ]
    },
    {
      "cell_type": "code",
      "metadata": {
        "id": "3MxE-d2qirwl"
      },
      "source": [
        "x_train,x_test,y_train,y_test= train_test_split(x,y,test_size = 0.33, random_state = 17)"
      ],
      "execution_count": null,
      "outputs": []
    },
    {
      "cell_type": "markdown",
      "metadata": {
        "id": "uTaj5tNGjTVb"
      },
      "source": [
        "Using the sklearn.model_selection , you will split the dataset into train and text with the test size of 0.33. Please note that for the exact output use the same value of random_state that is 17."
      ]
    },
    {
      "cell_type": "markdown",
      "metadata": {
        "id": "hz8exDJcjcIL"
      },
      "source": [
        "####Model the Naive Bayes Prediction on the dataset"
      ]
    },
    {
      "cell_type": "markdown",
      "metadata": {
        "id": "bWO_v0dlPBkK"
      },
      "source": [
        "####Bernoulli Naive Bayes"
      ]
    },
    {
      "cell_type": "code",
      "metadata": {
        "colab": {
          "base_uri": "https://localhost:8080/"
        },
        "id": "u1Z4vN_yjYjF",
        "outputId": "036126e9-9bda-4586-b57d-80a19dc94db1"
      },
      "source": [
        "BernNB = BernoulliNB(binarize=True)\n",
        "BernNB.fit(x_train,y_train)\n",
        "print(BernNB)\n",
        "y_expect = y_test\n",
        "y_predict = BernNB.predict(x_test)\n",
        "accuracy_score(y_expect,y_predict)"
      ],
      "execution_count": null,
      "outputs": [
        {
          "output_type": "stream",
          "text": [
            "BernoulliNB(alpha=1.0, binarize=True, class_prior=None, fit_prior=True)\n"
          ],
          "name": "stdout"
        },
        {
          "output_type": "execute_result",
          "data": {
            "text/plain": [
              "0.8558262014483212"
            ]
          },
          "metadata": {
            "tags": []
          },
          "execution_count": 6
        }
      ]
    },
    {
      "cell_type": "markdown",
      "metadata": {
        "id": "RkCTDVboPXuL"
      },
      "source": [
        "####Multinomial Naive Bayes"
      ]
    },
    {
      "cell_type": "code",
      "metadata": {
        "colab": {
          "base_uri": "https://localhost:8080/"
        },
        "id": "xoxTxsaWPFV-",
        "outputId": "006ab01e-c44d-482b-c408-0b10cbac62c6"
      },
      "source": [
        "MultiNB = MultinomialNB()\n",
        "MultiNB.fit(x_train,y_train)\n",
        "print(MultiNB)\n",
        "y_expect = y_test\n",
        "y_predict = MultiNB.predict(x_test)\n",
        "accuracy_score(y_expect,y_predict)"
      ],
      "execution_count": null,
      "outputs": [
        {
          "output_type": "stream",
          "text": [
            "MultinomialNB(alpha=1.0, class_prior=None, fit_prior=True)\n"
          ],
          "name": "stdout"
        },
        {
          "output_type": "execute_result",
          "data": {
            "text/plain": [
              "0.8736010533245556"
            ]
          },
          "metadata": {
            "tags": []
          },
          "execution_count": 10
        }
      ]
    },
    {
      "cell_type": "markdown",
      "metadata": {
        "id": "TAAn3R9qPoec"
      },
      "source": [
        "Gaussian Naive Bayes"
      ]
    },
    {
      "cell_type": "code",
      "metadata": {
        "colab": {
          "base_uri": "https://localhost:8080/"
        },
        "id": "6LdtAcwhPdw_",
        "outputId": "1d51a11b-fbbb-4da3-e4ff-887b58c6f3de"
      },
      "source": [
        "GaussNB = GaussianNB()\n",
        "GaussNB.fit(x_train,y_train)\n",
        "print(GaussNB)\n",
        "y_expect = y_test\n",
        "y_predict = GaussNB.predict(x_test)\n",
        "accuracy_score(y_expect,y_predict)"
      ],
      "execution_count": null,
      "outputs": [
        {
          "output_type": "stream",
          "text": [
            "GaussianNB(priors=None, var_smoothing=1e-09)\n"
          ],
          "name": "stdout"
        },
        {
          "output_type": "execute_result",
          "data": {
            "text/plain": [
              "0.8130348913759052"
            ]
          },
          "metadata": {
            "tags": []
          },
          "execution_count": 9
        }
      ]
    },
    {
      "cell_type": "markdown",
      "metadata": {
        "id": "gYbzrXzwQCUx"
      },
      "source": [
        "In all of the three, the accuracy score of the Multinomial is more than the others. Then we will select this model. You can improve the score by doing some modification of arguments values. Like in the case of the Bernoulli model, if you will use the binarize = 0.25 then the score will be 0.8966 that is more than the others. Thus you will choose that model with the highest score."
      ]
    },
    {
      "cell_type": "code",
      "metadata": {
        "id": "JfUOwRYNPnWG"
      },
      "source": [
        ""
      ],
      "execution_count": null,
      "outputs": []
    }
  ]
}